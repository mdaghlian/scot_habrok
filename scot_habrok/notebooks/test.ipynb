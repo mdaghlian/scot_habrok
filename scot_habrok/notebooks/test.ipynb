{
 "cells": [
  {
   "cell_type": "code",
   "execution_count": 1,
   "metadata": {},
   "outputs": [],
   "source": [
    "%load_ext autoreload\n",
    "%autoreload 2\n",
    "%matplotlib inline"
   ]
  },
  {
   "cell_type": "code",
   "execution_count": 5,
   "metadata": {},
   "outputs": [],
   "source": [
    "import sys\n",
    "import os\n",
    "opj = os.path.join\n",
    "import numpy as np\n",
    "import yaml\n",
    "import pickle\n",
    "from datetime import datetime, timedelta\n",
    "import time\n",
    "\n",
    "try:\n",
    "    from prfpy.stimulus import PRFStimulus2D\n",
    "    from prfpy.model import Iso2DGaussianModel\n",
    "    from prfpy.fit import Iso2DGaussianFitter\n",
    "except:\n",
    "    from prfpy_csenf.stimulus import PRFStimulus2D\n",
    "    from prfpy_csenf.model import Iso2DGaussianModel\n",
    "    from prfpy_csenf.fit import Iso2DGaussianFitter\n",
    "\n",
    "from dag_prf_utils.utils import *\n",
    "from dag_prf_utils.prfpy_ts_plotter import TSPlotter\n",
    "from scot_habrok.load_saved_info import *"
   ]
  },
  {
   "cell_type": "code",
   "execution_count": 42,
   "metadata": {},
   "outputs": [
    {
     "name": "stdout",
     "output_type": "stream",
     "text": [
      "/scratch/p307263/pilot1/derivatives/prf_habrok/prf_no_hrf/sub-01/ses-1/sub-01_gauss_all_task-AS0-fits_COLLATED_stage-iter_constr-tc_desc-prf_params.pkl\n",
      "/scratch/p307263/pilot1/derivatives/prf_habrok/prf_no_hrf/sub-01/ses-1/sub-01_gauss_all_task-AS0-fits_COLLATED_stage-iter_constr-bgfs_desc-prf_params.pkl\n",
      "/scratch/p307263/pilot1/derivatives/prf_habrok/prf_no_hrf/sub-01/ses-1/sub-01_model-gauss_roi-all_task-AS0-fits_stage-grid_desc-prf_params.pkl\n"
     ]
    }
   ],
   "source": [
    "sub = 'sub-01'\n",
    "task = 'AS0'\n",
    "model = 'gauss'\n",
    "constr = 'constr-tc'\n",
    "look_in = 'prf_no_hrf'\n",
    "cut_vols = 5\n",
    "ts_data = load_data_tc(\n",
    "    sub=sub,\n",
    "    task_list=task,\n",
    "    look_in=look_in,\n",
    ")[task]\n",
    "\n",
    "prf_dataTC = load_data_prf(\n",
    "    sub=sub, \n",
    "    task_list=task, \n",
    "    model_list=model,\n",
    "    look_in=look_in,\n",
    "    exclude='batch',\n",
    "    include='constr-tc',\n",
    "    )[task][model]\n",
    "prf_dataBG = load_data_prf(\n",
    "    sub=sub, \n",
    "    task_list=task, \n",
    "    model_list=model,\n",
    "    look_in=look_in,\n",
    "    exclude='batch',\n",
    "    include='constr-bgfs',\n",
    "    )[task][model]\n",
    "prf_dataGR = load_data_prf(\n",
    "    sub=sub, \n",
    "    task_list=task, \n",
    "    model_list=model,\n",
    "    look_in=look_in,\n",
    "    exclude='batch',\n",
    "    fit_stage='grid'\n",
    "    )[task][model]\n",
    "\n",
    "prf_settings = load_yml_settings()\n",
    "design_matrix = get_design_matrix_npy([task])[task]         \n",
    "design_matrix = design_matrix[:,:,cut_vols:]\n",
    "assert design_matrix.shape[-1]==ts_data.shape[-1]\n",
    "prf_stim = PRFStimulus2D(\n",
    "    screen_size_cm=prf_settings['screen_size_cm'],          # Distance of screen to eye\n",
    "    screen_distance_cm=prf_settings['screen_distance_cm'],  # height of the screen (i.e., the diameter of the stimulated region)\n",
    "    design_matrix=design_matrix,                            # dm (npix x npix x time_points)\n",
    "    TR=prf_settings['TR'],                                  # TR\n",
    "    )   \n",
    "gg = Iso2DGaussianModel(\n",
    "    stimulus=prf_stim,                                  # The stimulus we made earlier\n",
    "    hrf=prf_settings['hrf']['pars'],                    # These are the parameters for the HRF that we normally use at Spinoza (with 7T data). (we can fit it, this will be done later...)\n",
    "    normalize_RFs=prf_settings['normalize_RFs'],        # Normalize the volume of the RF (so that RFs w/ different sizes have the same volume. Generally not needed, as this can be solved using the beta values i.e.,amplitude)\n",
    "    )"
   ]
  },
  {
   "cell_type": "code",
   "execution_count": 43,
   "metadata": {},
   "outputs": [
    {
     "name": "stdout",
     "output_type": "stream",
     "text": [
      "prf_params.shape[-1]=8\n",
      "include hrf = True\n",
      "include rsq = True\n",
      "prf_params.shape[-1]=8\n",
      "include hrf = True\n",
      "include rsq = True\n",
      "prf_params.shape[-1]=8\n",
      "include hrf = True\n",
      "include rsq = True\n"
     ]
    }
   ],
   "source": [
    "prf_objTC = TSPlotter(\n",
    "    prf_params=prf_dataTC,\n",
    "    model='gauss', \n",
    "    prfpy_model=gg,\n",
    "    real_ts=ts_data,\n",
    ")\n",
    "prf_objBG = TSPlotter(\n",
    "    prf_params=prf_dataBG,\n",
    "    model='gauss', \n",
    "    prfpy_model=gg,\n",
    "    real_ts=ts_data,\n",
    ")\n",
    "prf_objGR = TSPlotter(\n",
    "    prf_params=prf_dataGR,\n",
    "    model='gauss', \n",
    "    prfpy_model=gg,\n",
    "    real_ts=ts_data,\n",
    ")\n",
    "\n",
    "prf_multi = PrfMulti(\n",
    "    [prf_objBG, prf_objTC, prf_objGR], ['bg', 'tc', 'gr']\n",
    ")\n"
   ]
  },
  {
   "cell_type": "code",
   "execution_count": 46,
   "metadata": {},
   "outputs": [
    {
     "data": {
      "image/png": "[encoded data removed]",
      "text/plain": [
       "<Figure size 640x480 with 1 Axes>"
      ]
     },
     "metadata": {},
     "output_type": "display_data"
    }
   ],
   "source": [
    "prf_multi.scatter('tc-rsq', 'bg-rsq', th={})"
   ]
  },
  {
   "cell_type": "code",
   "execution_count": 60,
   "metadata": {},
   "outputs": [
    {
     "ename": "TypeError",
     "evalue": "dag_make_custom_cmap() got an unexpected keyword argument 'cmap_stack'",
     "output_type": "error",
     "traceback": [
      "\u001b[0;31m---------------------------------------------------------------------------\u001b[0m",
      "\u001b[0;31mTypeError\u001b[0m                                 Traceback (most recent call last)",
      "Cell \u001b[0;32mIn[60], line 1\u001b[0m\n\u001b[0;32m----> 1\u001b[0m \u001b[43mdag_make_custom_cmap\u001b[49m\u001b[43m(\u001b[49m\u001b[43mcmap_stack\u001b[49m\u001b[38;5;241;43m=\u001b[39;49m\u001b[43m[\u001b[49m\u001b[38;5;124;43m'\u001b[39;49m\u001b[38;5;124;43mpolar_starter\u001b[39;49m\u001b[38;5;124;43m'\u001b[39;49m\u001b[43m,\u001b[49m\u001b[43m \u001b[49m\u001b[38;5;124;43m'\u001b[39;49m\u001b[38;5;124;43mpolar_starter_r\u001b[39;49m\u001b[38;5;124;43m'\u001b[39;49m\u001b[43m]\u001b[49m\u001b[43m)\u001b[49m\n\u001b[1;32m      2\u001b[0m prf_multi\u001b[38;5;241m.\u001b[39mprf_obj[\u001b[38;5;124m'\u001b[39m\u001b[38;5;124mtc\u001b[39m\u001b[38;5;124m'\u001b[39m]\u001b[38;5;241m.\u001b[39mvisual_field(dot_alpha\u001b[38;5;241m=\u001b[39m\u001b[38;5;241m1\u001b[39m, dot_size\u001b[38;5;241m=\u001b[39m\u001b[38;5;241m1\u001b[39m, dot_col\u001b[38;5;241m=\u001b[39m\u001b[38;5;124m'\u001b[39m\u001b[38;5;124mpol\u001b[39m\u001b[38;5;124m'\u001b[39m, dot_cmap\u001b[38;5;241m=\u001b[39m\u001b[38;5;124m'\u001b[39m\u001b[38;5;124mpolar_starter\u001b[39m\u001b[38;5;124m'\u001b[39m, dot_vmin\u001b[38;5;241m=\u001b[39m\u001b[38;5;241m-\u001b[39mnp\u001b[38;5;241m.\u001b[39mpi, dot_vmax\u001b[38;5;241m=\u001b[39mnp\u001b[38;5;241m.\u001b[39mpi)\n",
      "\u001b[0;31mTypeError\u001b[0m: dag_make_custom_cmap() got an unexpected keyword argument 'cmap_stack'"
     ]
    }
   ],
   "source": [
    "dag_make_custom_cmap(cmap_stack=['polar_starter', 'polar_starter_r'])\n",
    "prf_multi.prf_obj['tc'].visual_field(dot_alpha=1, dot_size=1, dot_col='pol', dot_cmap='polar_starter', dot_vmin=-np.pi, dot_vmax=np.pi)"
   ]
  }
 ],
 "metadata": {
  "kernelspec": {
   "display_name": "dag_prfpy",
   "language": "python",
   "name": "python3"
  },
  "language_info": {
   "codemirror_mode": {
    "name": "ipython",
    "version": 3
   },
   "file_extension": ".py",
   "mimetype": "text/x-python",
   "name": "python",
   "nbconvert_exporter": "python",
   "pygments_lexer": "ipython3",
   "version": "3.11.3"
  }
 },
 "nbformat": 4,
 "nbformat_minor": 2
}
